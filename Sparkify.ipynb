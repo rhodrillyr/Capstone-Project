{
 "cells": [
  {
   "cell_type": "markdown",
   "metadata": {},
   "source": [
    "# Sparkify Project Workspace"
   ]
  },
  {
   "cell_type": "code",
   "execution_count": 1,
   "metadata": {},
   "outputs": [],
   "source": [
    "# import libraries\n",
    "\n",
    "from pyspark.sql import SparkSession\n",
    "from pyspark.ml.feature import RegexTokenizer, CountVectorizer,IDF, StringIndexer, Normalizer\n",
    "from pyspark.sql.functions import udf\n",
    "from pyspark.sql.types import IntegerType\n",
    "from pyspark.sql.functions import when, col\n",
    "import re\n",
    "from pyspark.sql.functions import count\n",
    "from pyspark.sql import Window\n",
    "from pyspark.sql.functions import desc\n",
    "from pyspark.sql.functions import collect_list\n",
    "from pyspark.sql.functions import lag, row_number\n",
    "\n",
    "import matplotlib.pyplot as plt\n",
    "import pyspark.sql.functions as F\n",
    "from pyspark.ml.classification import LogisticRegression\n",
    "from pyspark.ml.feature import VectorAssembler\n",
    "from pyspark.ml.classification import DecisionTreeClassifier\n",
    "from pyspark.ml.evaluation import MulticlassClassificationEvaluator, BinaryClassificationEvaluator\n",
    "import numpy as np\n",
    "from pyspark.ml.classification import GBTClassifier\n",
    "from pyspark.ml.classification import RandomForestClassifier"
   ]
  },
  {
   "cell_type": "code",
   "execution_count": 2,
   "metadata": {},
   "outputs": [],
   "source": [
    "import os\n",
    "os.environ['JAVA_HOME'] = '/workspace/jdk'\n",
    "os.environ['PATH'] = f\"{os.environ['JAVA_HOME']}/bin:{os.environ['PATH']}\""
   ]
  },
  {
   "cell_type": "code",
   "execution_count": 3,
   "metadata": {},
   "outputs": [
    {
     "name": "stderr",
     "output_type": "stream",
     "text": [
      "/opt/venv/lib/python3.10/site-packages/pyspark/bin/load-spark-env.sh: line 68: ps: command not found\n",
      "Setting default log level to \"WARN\".\n",
      "To adjust logging level use sc.setLogLevel(newLevel). For SparkR, use setLogLevel(newLevel).\n",
      "24/12/09 17:50:23 WARN NativeCodeLoader: Unable to load native-hadoop library for your platform... using builtin-java classes where applicable\n"
     ]
    }
   ],
   "source": [
    "# create a Spark session\n",
    "\n",
    "spark = SparkSession.builder \\\n",
    "    .master(\"local\") \\\n",
    "    .appName(\"Capstone\") \\\n",
    "    .getOrCreate()"
   ]
  },
  {
   "cell_type": "markdown",
   "metadata": {},
   "source": [
    "# Load and Clean Dataset"
   ]
  },
  {
   "cell_type": "code",
   "execution_count": 4,
   "metadata": {},
   "outputs": [],
   "source": [
    "# variable of the mini-dataset file\n",
    "\n",
    "sparkify_data = 'mini_sparkify_event_data.json'"
   ]
  },
  {
   "cell_type": "code",
   "execution_count": 5,
   "metadata": {},
   "outputs": [
    {
     "name": "stderr",
     "output_type": "stream",
     "text": [
      "                                                                                \r"
     ]
    }
   ],
   "source": [
    "# load in the dataset\n",
    "\n",
    "df = spark.read.json(sparkify_data)"
   ]
  },
  {
   "cell_type": "markdown",
   "metadata": {},
   "source": [
    "# Exploratory Data Analysis"
   ]
  },
  {
   "cell_type": "code",
   "execution_count": 6,
   "metadata": {},
   "outputs": [
    {
     "data": {
      "text/plain": [
       "Row(artist='Martha Tilston', auth='Logged In', firstName='Colin', gender='M', itemInSession=50, lastName='Freeman', length=277.89016, level='paid', location='Bakersfield, CA', method='PUT', page='NextSong', registration=1538173362000, sessionId=29, song='Rockpools', status=200, ts=1538352117000, userAgent='Mozilla/5.0 (Windows NT 6.1; WOW64; rv:31.0) Gecko/20100101 Firefox/31.0', userId='30')"
      ]
     },
     "execution_count": 6,
     "metadata": {},
     "output_type": "execute_result"
    }
   ],
   "source": [
    "# look at the first row of the dataset\n",
    "\n",
    "df.head()"
   ]
  },
  {
   "cell_type": "code",
   "execution_count": 7,
   "metadata": {},
   "outputs": [
    {
     "name": "stderr",
     "output_type": "stream",
     "text": [
      "                                                                                \r"
     ]
    },
    {
     "data": {
      "text/plain": [
       "286500"
      ]
     },
     "execution_count": 7,
     "metadata": {},
     "output_type": "execute_result"
    }
   ],
   "source": [
    "# how many rows are in the dataset\n",
    "\n",
    "df.count()"
   ]
  },
  {
   "cell_type": "code",
   "execution_count": 8,
   "metadata": {},
   "outputs": [
    {
     "name": "stderr",
     "output_type": "stream",
     "text": [
      "                                                                                \r"
     ]
    },
    {
     "data": {
      "text/plain": [
       "226"
      ]
     },
     "execution_count": 8,
     "metadata": {},
     "output_type": "execute_result"
    }
   ],
   "source": [
    "# how many users are a part of this dataset\n",
    "\n",
    "no_unique_users = df.select('userId').dropDuplicates().count()\n",
    "no_unique_users"
   ]
  },
  {
   "cell_type": "markdown",
   "metadata": {},
   "source": [
    "### Define Churn"
   ]
  },
  {
   "cell_type": "code",
   "execution_count": 9,
   "metadata": {},
   "outputs": [
    {
     "name": "stderr",
     "output_type": "stream",
     "text": [
      "                                                                                \r"
     ]
    },
    {
     "data": {
      "text/plain": [
       "52"
      ]
     },
     "execution_count": 9,
     "metadata": {},
     "output_type": "execute_result"
    }
   ],
   "source": [
    "# how many of the users have 'churned'\n",
    "\n",
    "df.select([\"userId\", \"page\"]).where(df.page == \"Cancellation Confirmation\").count()"
   ]
  },
  {
   "cell_type": "code",
   "execution_count": 10,
   "metadata": {},
   "outputs": [],
   "source": [
    "# defining the churn column using a lamda function and assigning as an integer.\n",
    "\n",
    "churn = udf(lambda x: 1 if x == \"Cancellation Confirmation\" else 0, IntegerType())"
   ]
  },
  {
   "cell_type": "code",
   "execution_count": 11,
   "metadata": {},
   "outputs": [],
   "source": [
    "# applying this to the dataset, using the page column.\n",
    "\n",
    "df = df.withColumn(\"Churn\", churn(\"page\"))"
   ]
  },
  {
   "cell_type": "code",
   "execution_count": 12,
   "metadata": {},
   "outputs": [
    {
     "name": "stderr",
     "output_type": "stream",
     "text": [
      "                                                                                \r"
     ]
    },
    {
     "data": {
      "text/plain": [
       "Row(artist='Martha Tilston', auth='Logged In', firstName='Colin', gender='M', itemInSession=50, lastName='Freeman', length=277.89016, level='paid', location='Bakersfield, CA', method='PUT', page='NextSong', registration=1538173362000, sessionId=29, song='Rockpools', status=200, ts=1538352117000, userAgent='Mozilla/5.0 (Windows NT 6.1; WOW64; rv:31.0) Gecko/20100101 Firefox/31.0', userId='30', Churn=0)"
      ]
     },
     "execution_count": 12,
     "metadata": {},
     "output_type": "execute_result"
    }
   ],
   "source": [
    "df.head()"
   ]
  },
  {
   "cell_type": "code",
   "execution_count": 13,
   "metadata": {},
   "outputs": [
    {
     "name": "stderr",
     "output_type": "stream",
     "text": [
      "                                                                                \r"
     ]
    }
   ],
   "source": [
    "# creating a list of all the users who have churned.\n",
    "\n",
    "have_churned_df = df.where(df.Churn == 1)\n",
    "churned_users = have_churned_df.select('userId').rdd.flatMap(lambda x: x).collect()"
   ]
  },
  {
   "cell_type": "code",
   "execution_count": 14,
   "metadata": {},
   "outputs": [],
   "source": [
    "# creating two separate datasets for users who have and haven't churned.\n",
    "\n",
    "non_churned_df = df.where(~col('userId').isin(churned_users))\n",
    "churned_df = df.where(col('userId').isin(churned_users))"
   ]
  },
  {
   "cell_type": "code",
   "execution_count": 15,
   "metadata": {},
   "outputs": [],
   "source": [
    "non_churned_df_users = non_churned_df.dropDuplicates(['userId'])\n",
    "churned_df_users = churned_df.dropDuplicates(['userId'])"
   ]
  },
  {
   "cell_type": "markdown",
   "metadata": {},
   "source": [
    "### Explore Data"
   ]
  },
  {
   "cell_type": "markdown",
   "metadata": {},
   "source": [
    "## By level analysis"
   ]
  },
  {
   "cell_type": "markdown",
   "metadata": {},
   "source": [
    "**As the dataset is now seperated into two, we can look if there's any noticable difference in behaviour between the two groups. Firstly, we'll look into if users who are using the 'free' level are more likely to churn than those who's using the 'paid' level.**"
   ]
  },
  {
   "cell_type": "code",
   "execution_count": 16,
   "metadata": {},
   "outputs": [
    {
     "name": "stderr",
     "output_type": "stream",
     "text": [
      "                                                                                \r"
     ]
    },
    {
     "data": {
      "text/plain": [
       "[Row(level='free', no_level_customers=44),\n",
       " Row(level='paid', no_level_customers=8)]"
      ]
     },
     "execution_count": 16,
     "metadata": {},
     "output_type": "execute_result"
    }
   ],
   "source": [
    "# Starting with the churned dataset, we'll count how many of them are in each level.\n",
    "\n",
    "churned_df_users.groupby(churned_df_users.level).agg(count('*').alias('no_level_customers')).collect()"
   ]
  },
  {
   "cell_type": "code",
   "execution_count": 17,
   "metadata": {},
   "outputs": [
    {
     "name": "stderr",
     "output_type": "stream",
     "text": [
      "                                                                                \r"
     ]
    },
    {
     "data": {
      "text/plain": [
       "[Row(level='free', no_level_customers=134),\n",
       " Row(level='paid', no_level_customers=40)]"
      ]
     },
     "execution_count": 17,
     "metadata": {},
     "output_type": "execute_result"
    }
   ],
   "source": [
    "# Do the same with the non-churned dataset.\n",
    "\n",
    "non_churned_df_users.groupby(non_churned_df_users.level).agg(count('*').alias('no_level_customers')).collect()"
   ]
  },
  {
   "cell_type": "code",
   "execution_count": 18,
   "metadata": {},
   "outputs": [
    {
     "data": {
      "image/png": "[encoded data removed]",
      "text/plain": [
       "<Figure size 640x480 with 1 Axes>"
      ]
     },
     "metadata": {},
     "output_type": "display_data"
    }
   ],
   "source": [
    "# Now we have all the data, this can be plotted in a bar plot to see the comparison between the two customers.\n",
    "\n",
    "level = ['free', 'paid']\n",
    "no_customers_churned = [44, 8]\n",
    "no_customers_non_churned = [134, 40]\n",
    "width = 0.2\n",
    "r1 = np.arange(len(level))\n",
    "r2 = [x + width for x in r1]\n",
    "\n",
    "plt.bar(r1, no_customers_churned, width = width, label = 'Churned Customers')\n",
    "plt.bar(r2,  no_customers_non_churned,width = width , label = 'Non churned Customers')\n",
    "plt.xlabel('Level')\n",
    "plt.ylabel('Number of Customers')\n",
    "plt.title('Number of Customers by Level')\n",
    "plt.xticks([r + width/2 for r in range(len(level))], level)\n",
    "\n",
    "plt.legend()\n",
    "plt.show()"
   ]
  },
  {
   "cell_type": "code",
   "execution_count": 19,
   "metadata": {},
   "outputs": [
    {
     "data": {
      "text/plain": [
       "0.24719101123595505"
      ]
     },
     "execution_count": 19,
     "metadata": {},
     "output_type": "execute_result"
    }
   ],
   "source": [
    "free_level_churn_rate = 44/(44+134)\n",
    "free_level_churn_rate"
   ]
  },
  {
   "cell_type": "code",
   "execution_count": 20,
   "metadata": {},
   "outputs": [
    {
     "data": {
      "text/plain": [
       "0.16666666666666666"
      ]
     },
     "execution_count": 20,
     "metadata": {},
     "output_type": "execute_result"
    }
   ],
   "source": [
    "paid_level_churn_rate = 8/(8+40)\n",
    "paid_level_churn_rate"
   ]
  },
  {
   "cell_type": "markdown",
   "metadata": {},
   "source": [
    "**We can see that the churn rate is significantly higher for those using the 'free' level.** "
   ]
  },
  {
   "cell_type": "markdown",
   "metadata": {},
   "source": [
    "## By gender analysis"
   ]
  },
  {
   "cell_type": "markdown",
   "metadata": {},
   "source": [
    "**We can do the same analysis however this type see if gender has an effect.**"
   ]
  },
  {
   "cell_type": "code",
   "execution_count": 21,
   "metadata": {},
   "outputs": [
    {
     "name": "stderr",
     "output_type": "stream",
     "text": [
      "                                                                                \r"
     ]
    },
    {
     "data": {
      "text/plain": [
       "[Row(gender='F', gender_count=20), Row(gender='M', gender_count=32)]"
      ]
     },
     "execution_count": 21,
     "metadata": {},
     "output_type": "execute_result"
    }
   ],
   "source": [
    "#  Starting with the churned dataset, we'll see what the gender divide is.\n",
    "\n",
    "churned_df_users.groupby(churned_df_users.gender).agg(count('*').alias('gender_count')).collect()"
   ]
  },
  {
   "cell_type": "code",
   "execution_count": 22,
   "metadata": {},
   "outputs": [
    {
     "name": "stderr",
     "output_type": "stream",
     "text": [
      "                                                                                \r"
     ]
    },
    {
     "data": {
      "text/plain": [
       "[Row(gender='F', gender_count=84),\n",
       " Row(gender=None, gender_count=1),\n",
       " Row(gender='M', gender_count=89)]"
      ]
     },
     "execution_count": 22,
     "metadata": {},
     "output_type": "execute_result"
    }
   ],
   "source": [
    "# Do the same to the non-churned dataset.\n",
    "\n",
    "non_churned_df_users.groupby(non_churned_df_users.gender).agg(count('*').alias('gender_count')).collect()"
   ]
  },
  {
   "cell_type": "code",
   "execution_count": 23,
   "metadata": {},
   "outputs": [
    {
     "data": {
      "image/png": "[encoded data removed]",
      "text/plain": [
       "<Figure size 640x480 with 1 Axes>"
      ]
     },
     "metadata": {},
     "output_type": "display_data"
    }
   ],
   "source": [
    "# Plot this data in the same method as above.\n",
    "\n",
    "gender = ['male', 'female']\n",
    "no_customers_churned = [32, 20]\n",
    "no_customers_non_churned = [89, 84]\n",
    "width = 0.2\n",
    "r1 = np.arange(len(gender))\n",
    "r2 = [x + width for x in r1]\n",
    "\n",
    "plt.bar(r1, no_customers_churned, width = width, label = 'Churned Customers')\n",
    "plt.bar(r2,  no_customers_non_churned,width = width , label = 'Non churned Customers')\n",
    "plt.xlabel('Gender')\n",
    "plt.ylabel('Number of Customers')\n",
    "plt.title('Number of Customers by Gender')\n",
    "plt.xticks([r + width/2 for r in range(len(gender))], gender)\n",
    "\n",
    "plt.legend()\n",
    "plt.show()"
   ]
  },
  {
   "cell_type": "code",
   "execution_count": 24,
   "metadata": {},
   "outputs": [
    {
     "data": {
      "text/plain": [
       "0.2644628099173554"
      ]
     },
     "execution_count": 24,
     "metadata": {},
     "output_type": "execute_result"
    }
   ],
   "source": [
    "male_churn_rate = 32/(32+89)\n",
    "male_churn_rate"
   ]
  },
  {
   "cell_type": "code",
   "execution_count": 25,
   "metadata": {},
   "outputs": [
    {
     "data": {
      "text/plain": [
       "0.19230769230769232"
      ]
     },
     "execution_count": 25,
     "metadata": {},
     "output_type": "execute_result"
    }
   ],
   "source": [
    "female_churn_rate = 20/(20+84)\n",
    "female_churn_rate"
   ]
  },
  {
   "cell_type": "markdown",
   "metadata": {},
   "source": [
    "**We can see that males are more likely to churn.**"
   ]
  },
  {
   "cell_type": "markdown",
   "metadata": {},
   "source": [
    "## Songs Listened"
   ]
  },
  {
   "cell_type": "code",
   "execution_count": 26,
   "metadata": {},
   "outputs": [
    {
     "name": "stderr",
     "output_type": "stream",
     "text": [
      "                                                                                \r"
     ]
    },
    {
     "data": {
      "text/plain": [
       "862.7692307692307"
      ]
     },
     "execution_count": 26,
     "metadata": {},
     "output_type": "execute_result"
    }
   ],
   "source": [
    "# What is the average number of songs listened to.\n",
    "\n",
    "avg_song_churned = (churned_df.select('song').count())/(churned_df_users.count())\n",
    "avg_song_churned"
   ]
  },
  {
   "cell_type": "code",
   "execution_count": 27,
   "metadata": {},
   "outputs": [
    {
     "name": "stderr",
     "output_type": "stream",
     "text": [
      "                                                                                \r"
     ]
    },
    {
     "data": {
      "text/plain": [
       "1388.712643678161"
      ]
     },
     "execution_count": 27,
     "metadata": {},
     "output_type": "execute_result"
    }
   ],
   "source": [
    "avg_song_non_churned = (non_churned_df.select('song').count())/(non_churned_df_users.count())\n",
    "avg_song_non_churned"
   ]
  },
  {
   "cell_type": "markdown",
   "metadata": {},
   "source": [
    "**We can see that users who do not churn listen on average to a higher amount of songs.**"
   ]
  },
  {
   "cell_type": "markdown",
   "metadata": {},
   "source": [
    "# Location"
   ]
  },
  {
   "cell_type": "markdown",
   "metadata": {},
   "source": [
    "**Does location have an impact on churning?**"
   ]
  },
  {
   "cell_type": "code",
   "execution_count": 28,
   "metadata": {},
   "outputs": [
    {
     "name": "stderr",
     "output_type": "stream",
     "text": [
      "\r",
      "[Stage 58:>                                                         (0 + 1) / 1]\r"
     ]
    },
    {
     "name": "stdout",
     "output_type": "stream",
     "text": [
      "+--------------------+-----+\n",
      "|            location|count|\n",
      "+--------------------+-----+\n",
      "|Los Angeles-Long ...| 5677|\n",
      "|         Jackson, MS| 3839|\n",
      "|Spokane-Spokane V...| 3526|\n",
      "|New York-Newark-J...| 2899|\n",
      "|Lexington-Fayette...| 2464|\n",
      "|Colorado Springs, CO| 2168|\n",
      "|Denver-Aurora-Lak...| 2149|\n",
      "|           Selma, AL| 2027|\n",
      "|New Philadelphia-...| 1781|\n",
      "|Philadelphia-Camd...| 1580|\n",
      "+--------------------+-----+\n",
      "only showing top 10 rows\n",
      "\n"
     ]
    },
    {
     "name": "stderr",
     "output_type": "stream",
     "text": [
      "\r",
      "                                                                                \r"
     ]
    }
   ],
   "source": [
    "# Grouping the data by location and counting the occurances, then ranking by the most popular gives \n",
    "# us an idea of where most of the churned users are based. We can then compare the most popular locations \n",
    "# with the non-churned users.\n",
    "\n",
    "churned_location = churned_df.select(\"location\", \"userId\", \"churn\").groupby(\"location\").count()\n",
    "churned_location.sort('count', ascending=False).show(10)"
   ]
  },
  {
   "cell_type": "code",
   "execution_count": 29,
   "metadata": {},
   "outputs": [
    {
     "name": "stderr",
     "output_type": "stream",
     "text": [
      "\r",
      "[Stage 61:>                                                         (0 + 1) / 1]\r"
     ]
    },
    {
     "name": "stdout",
     "output_type": "stream",
     "text": [
      "+--------------------+-----+\n",
      "|            location|count|\n",
      "+--------------------+-----+\n",
      "|Los Angeles-Long ...|24454|\n",
      "|New York-Newark-J...|20785|\n",
      "|Boston-Cambridge-...|13873|\n",
      "|Houston-The Woodl...| 8535|\n",
      "|                NULL| 8346|\n",
      "|Charlotte-Concord...| 7780|\n",
      "|Dallas-Fort Worth...| 7286|\n",
      "|Louisville/Jeffer...| 6880|\n",
      "|Vineland-Bridgeto...| 4825|\n",
      "|          Wilson, NC| 4659|\n",
      "+--------------------+-----+\n",
      "only showing top 10 rows\n",
      "\n"
     ]
    },
    {
     "name": "stderr",
     "output_type": "stream",
     "text": [
      "\r",
      "                                                                                \r"
     ]
    }
   ],
   "source": [
    "non_churned_location = non_churned_df.select(\"location\", \"userId\", \"churn\").groupby(\"location\").count()\n",
    "non_churned_location.sort('count', ascending=False).show(10)"
   ]
  },
  {
   "cell_type": "markdown",
   "metadata": {},
   "source": [
    "**We can see that the top 10 locations are different between the two datasets.**"
   ]
  },
  {
   "cell_type": "markdown",
   "metadata": {},
   "source": [
    "# Length "
   ]
  },
  {
   "cell_type": "code",
   "execution_count": 30,
   "metadata": {},
   "outputs": [
    {
     "name": "stderr",
     "output_type": "stream",
     "text": [
      "                                                                                \r"
     ]
    },
    {
     "data": {
      "text/plain": [
       "249.20913538881427"
      ]
     },
     "execution_count": 30,
     "metadata": {},
     "output_type": "execute_result"
    }
   ],
   "source": [
    "non_churned_df.agg(F.mean('length')).collect()[0][0]"
   ]
  },
  {
   "cell_type": "code",
   "execution_count": 31,
   "metadata": {},
   "outputs": [
    {
     "name": "stderr",
     "output_type": "stream",
     "text": [
      "\r",
      "[Stage 67:>                                                         (0 + 1) / 1]\r",
      "\r",
      "                                                                                \r"
     ]
    },
    {
     "data": {
      "text/plain": [
       "248.63279564406366"
      ]
     },
     "execution_count": 31,
     "metadata": {},
     "output_type": "execute_result"
    }
   ],
   "source": [
    "churned_df.agg(F.mean('length')).collect()[0][0]"
   ]
  },
  {
   "cell_type": "markdown",
   "metadata": {},
   "source": [
    "**We can see that the length feature doesn't vary between the two datasets.**"
   ]
  },
  {
   "cell_type": "markdown",
   "metadata": {},
   "source": [
    "# Feature Engineering"
   ]
  },
  {
   "cell_type": "code",
   "execution_count": 32,
   "metadata": {},
   "outputs": [
    {
     "name": "stderr",
     "output_type": "stream",
     "text": [
      "                                                                                \r"
     ]
    }
   ],
   "source": [
    "# Create numeric variables for features we want to use.\n",
    "\n",
    "df = spark.read.json(sparkify_data)\n",
    "df = df.withColumn('numeric_gender', when(df.gender == 'f', 1).otherwise(0)) \n",
    "df = df.withColumn('numeric_level', when(df.level == 'paid', 1).otherwise(0)) \n",
    "df = df.withColumn('label', F.when(df['userId'].isin(churned_users), 1).otherwise(0))\n",
    "df = df.withColumn('churn', when(df.page == \"Cancellation Confirmation\", 1).otherwise(0))"
   ]
  },
  {
   "cell_type": "code",
   "execution_count": 33,
   "metadata": {},
   "outputs": [],
   "source": [
    "# We have identified the song feature as one which is significant therefore we want to ensure all the rows are in the \n",
    "# correct format.\n",
    "\n",
    "df = df.withColumn(\"song\", df[\"song\"].cast('string'))"
   ]
  },
  {
   "cell_type": "code",
   "execution_count": 34,
   "metadata": {},
   "outputs": [],
   "source": [
    "# Do the same to the location feature.\n",
    "\n",
    "df = df.withColumn(\"location\", df[\"location\"].cast('string'))"
   ]
  },
  {
   "cell_type": "code",
   "execution_count": 35,
   "metadata": {},
   "outputs": [],
   "source": [
    "# Drop any null values for these two features.\n",
    "\n",
    "df = df.dropna(how = 'any', subset = [\"song\", \"location\"])"
   ]
  },
  {
   "cell_type": "code",
   "execution_count": 36,
   "metadata": {},
   "outputs": [
    {
     "data": {
      "text/plain": [
       "Row(artist='Martha Tilston', auth='Logged In', firstName='Colin', gender='M', itemInSession=50, lastName='Freeman', length=277.89016, level='paid', location='Bakersfield, CA', method='PUT', page='NextSong', registration=1538173362000, sessionId=29, song='Rockpools', status=200, ts=1538352117000, userAgent='Mozilla/5.0 (Windows NT 6.1; WOW64; rv:31.0) Gecko/20100101 Firefox/31.0', userId='30', numeric_gender=0, numeric_level=1, label=0, churn=0, location_words=['bakersfield', 'ca'])"
      ]
     },
     "execution_count": 36,
     "metadata": {},
     "output_type": "execute_result"
    }
   ],
   "source": [
    "# split the location text into separate words\n",
    "\n",
    "regexTokenizer = RegexTokenizer(inputCol=\"location\", outputCol='location_words', pattern=\"\\\\W\")\n",
    "df = regexTokenizer.transform(df)\n",
    "df.head()"
   ]
  },
  {
   "cell_type": "code",
   "execution_count": 37,
   "metadata": {},
   "outputs": [
    {
     "name": "stderr",
     "output_type": "stream",
     "text": [
      "                                                                                \r"
     ]
    }
   ],
   "source": [
    "# find the term frequencies of the location feature\n",
    "\n",
    "cv = CountVectorizer(inputCol=\"location_words\", outputCol=\"TF_location\", vocabSize=1000)\n",
    "cvmodel = cv.fit(df)\n",
    "df = cvmodel.transform(df)"
   ]
  },
  {
   "cell_type": "code",
   "execution_count": 38,
   "metadata": {},
   "outputs": [
    {
     "name": "stderr",
     "output_type": "stream",
     "text": [
      "                                                                                \r"
     ]
    },
    {
     "data": {
      "text/plain": [
       "Row(artist='Martha Tilston', auth='Logged In', firstName='Colin', gender='M', itemInSession=50, lastName='Freeman', length=277.89016, level='paid', location='Bakersfield, CA', method='PUT', page='NextSong', registration=1538173362000, sessionId=29, song='Rockpools', status=200, ts=1538352117000, userAgent='Mozilla/5.0 (Windows NT 6.1; WOW64; rv:31.0) Gecko/20100101 Firefox/31.0', userId='30', numeric_gender=0, numeric_level=1, label=0, churn=0, location_words=['bakersfield', 'ca'], TF_location=SparseVector(273, {0: 1.0, 155: 1.0}), TFIDF_location=SparseVector(273, {0: 1.7851, 155: 5.0806}))"
      ]
     },
     "execution_count": 38,
     "metadata": {},
     "output_type": "execute_result"
    }
   ],
   "source": [
    "# Inter-document frequency.\n",
    "\n",
    "idf = IDF(inputCol=\"TF_location\", outputCol=\"TFIDF_location\")\n",
    "idfModel = idf.fit(df)\n",
    "df = idfModel.transform(df)\n",
    "df.head()"
   ]
  },
  {
   "cell_type": "code",
   "execution_count": 39,
   "metadata": {},
   "outputs": [
    {
     "name": "stderr",
     "output_type": "stream",
     "text": [
      "24/12/09 17:51:17 WARN SparkStringUtils: Truncated the string representation of a plan since it was too large. This behavior can be adjusted by setting 'spark.sql.debug.maxToStringFields'.\n"
     ]
    },
    {
     "data": {
      "text/plain": [
       "Row(artist='Martha Tilston', auth='Logged In', firstName='Colin', gender='M', itemInSession=50, lastName='Freeman', length=277.89016, level='paid', location='Bakersfield, CA', method='PUT', page='NextSong', registration=1538173362000, sessionId=29, song='Rockpools', status=200, ts=1538352117000, userAgent='Mozilla/5.0 (Windows NT 6.1; WOW64; rv:31.0) Gecko/20100101 Firefox/31.0', userId='30', numeric_gender=0, numeric_level=1, label=0, churn=0, location_words=['bakersfield', 'ca'], TF_location=SparseVector(273, {0: 1.0, 155: 1.0}), TFIDF_location=SparseVector(273, {0: 1.7851, 155: 5.0806}), song_words=['rockpools'])"
      ]
     },
     "execution_count": 39,
     "metadata": {},
     "output_type": "execute_result"
    }
   ],
   "source": [
    "# split the song text into separate words\n",
    "\n",
    "regexTokenizer2 = RegexTokenizer(inputCol=\"song\", outputCol='song_words', pattern=\"\\\\W\")\n",
    "df = regexTokenizer2.transform(df)\n",
    "df.head()"
   ]
  },
  {
   "cell_type": "code",
   "execution_count": 40,
   "metadata": {},
   "outputs": [
    {
     "name": "stderr",
     "output_type": "stream",
     "text": [
      "                                                                                \r"
     ]
    }
   ],
   "source": [
    "# find the term frequencies of the song feature\n",
    "\n",
    "cv2 = CountVectorizer(inputCol=\"song_words\", outputCol=\"TF_song\", vocabSize=1000)\n",
    "cvmodel2 = cv2.fit(df)\n",
    "df = cvmodel2.transform(df)"
   ]
  },
  {
   "cell_type": "code",
   "execution_count": 41,
   "metadata": {},
   "outputs": [
    {
     "name": "stderr",
     "output_type": "stream",
     "text": [
      "                                                                                \r"
     ]
    },
    {
     "data": {
      "text/plain": [
       "Row(artist='Martha Tilston', auth='Logged In', firstName='Colin', gender='M', itemInSession=50, lastName='Freeman', length=277.89016, level='paid', location='Bakersfield, CA', method='PUT', page='NextSong', registration=1538173362000, sessionId=29, song='Rockpools', status=200, ts=1538352117000, userAgent='Mozilla/5.0 (Windows NT 6.1; WOW64; rv:31.0) Gecko/20100101 Firefox/31.0', userId='30', numeric_gender=0, numeric_level=1, label=0, churn=0, location_words=['bakersfield', 'ca'], TF_location=SparseVector(273, {0: 1.0, 155: 1.0}), TFIDF_location=SparseVector(273, {0: 1.7851, 155: 5.0806}), song_words=['rockpools'], TF_song=SparseVector(1000, {}), TFIDF_song=SparseVector(1000, {}))"
      ]
     },
     "execution_count": 41,
     "metadata": {},
     "output_type": "execute_result"
    }
   ],
   "source": [
    "# Inter-document frequency.\n",
    "\n",
    "idf2 = IDF(inputCol=\"TF_song\", outputCol=\"TFIDF_song\")\n",
    "idfModel2 = idf2.fit(df)\n",
    "df = idfModel2.transform(df)\n",
    "df.head()"
   ]
  },
  {
   "cell_type": "code",
   "execution_count": 42,
   "metadata": {},
   "outputs": [],
   "source": [
    "# Combine all the numerical features into a vector.\n",
    "\n",
    "assembler = VectorAssembler(inputCols=['TFIDF_location', \"TFIDF_song\", 'numeric_gender', 'numeric_level','sessionId', 'itemInSession'], outputCol='NumFeatures')\n",
    "df = assembler.transform(df)"
   ]
  },
  {
   "cell_type": "code",
   "execution_count": 43,
   "metadata": {},
   "outputs": [],
   "source": [
    "# Normalize the vector.\n",
    "\n",
    "scaler = Normalizer(inputCol=\"NumFeatures\", outputCol=\"ScaledNumFeatures\")\n",
    "df = scaler.transform(df)"
   ]
  },
  {
   "cell_type": "code",
   "execution_count": 44,
   "metadata": {},
   "outputs": [
    {
     "data": {
      "text/plain": [
       "Row(artist='Martha Tilston', auth='Logged In', firstName='Colin', gender='M', itemInSession=50, lastName='Freeman', length=277.89016, level='paid', location='Bakersfield, CA', method='PUT', page='NextSong', registration=1538173362000, sessionId=29, song='Rockpools', status=200, ts=1538352117000, userAgent='Mozilla/5.0 (Windows NT 6.1; WOW64; rv:31.0) Gecko/20100101 Firefox/31.0', userId='30', numeric_gender=0, numeric_level=1, label=0, churn=0, location_words=['bakersfield', 'ca'], TF_location=SparseVector(273, {0: 1.0, 155: 1.0}), TFIDF_location=SparseVector(273, {0: 1.7851, 155: 5.0806}), song_words=['rockpools'], TF_song=SparseVector(1000, {}), TFIDF_song=SparseVector(1000, {}), NumFeatures=SparseVector(1277, {0: 1.7851, 155: 5.0806, 1274: 1.0, 1275: 29.0, 1276: 50.0}), ScaledNumFeatures=SparseVector(1277, {0: 0.0307, 155: 0.0875, 1274: 0.0172, 1275: 0.4995, 1276: 0.8612}))"
      ]
     },
     "execution_count": 44,
     "metadata": {},
     "output_type": "execute_result"
    }
   ],
   "source": [
    "df.head()"
   ]
  },
  {
   "cell_type": "code",
   "execution_count": 45,
   "metadata": {},
   "outputs": [
    {
     "name": "stderr",
     "output_type": "stream",
     "text": [
      "                                                                                \r"
     ]
    },
    {
     "data": {
      "text/plain": [
       "225"
      ]
     },
     "execution_count": 45,
     "metadata": {},
     "output_type": "execute_result"
    }
   ],
   "source": [
    "# Checking we still have the correct amount of users.\n",
    "\n",
    "check_no_unique_users = df.select('userId').dropDuplicates().count()\n",
    "check_no_unique_users"
   ]
  },
  {
   "cell_type": "markdown",
   "metadata": {},
   "source": [
    "# Modeling"
   ]
  },
  {
   "cell_type": "code",
   "execution_count": 46,
   "metadata": {},
   "outputs": [],
   "source": [
    "# Split the dataset\n",
    "\n",
    "train_data, test_data, validation_data = df.randomSplit([0.7, 0.2, 0.1], seed=42)"
   ]
  },
  {
   "cell_type": "code",
   "execution_count": 47,
   "metadata": {},
   "outputs": [
    {
     "name": "stderr",
     "output_type": "stream",
     "text": [
      "                                                                                \r"
     ]
    },
    {
     "data": {
      "text/plain": [
       "Row(artist='!!!', auth='Logged In', firstName='Brayden', gender='M', itemInSession=279, lastName='Thomas', length=356.10077, level='paid', location='Los Angeles-Long Beach-Anaheim, CA', method='PUT', page='NextSong', registration=1534133898000, sessionId=2266, song='Must Be The Moon', status=200, ts=1543261020000, userAgent='\"Mozilla/5.0 (Macintosh; Intel Mac OS X 10_9_4) AppleWebKit/537.36 (KHTML, like Gecko) Chrome/36.0.1985.143 Safari/537.36\"', userId='85', numeric_gender=0, numeric_level=1, label=0, churn=0, location_words=['los', 'angeles', 'long', 'beach', 'anaheim', 'ca'], TF_location=SparseVector(273, {0: 1.0, 2: 1.0, 5: 1.0, 6: 1.0, 7: 1.0, 8: 1.0}), TFIDF_location=SparseVector(273, {0: 1.7851, 2: 2.0705, 5: 2.2165, 6: 2.2165, 7: 2.2165, 8: 2.2165}), song_words=['must', 'be', 'the', 'moon'], TF_song=SparseVector(1000, {0: 1.0, 24: 1.0, 199: 1.0, 675: 1.0}), TFIDF_song=SparseVector(1000, {0: 2.0967, 24: 4.3672, 199: 6.1722, 675: 7.2624}), NumFeatures=SparseVector(1277, {0: 1.7851, 2: 2.0705, 5: 2.2165, 6: 2.2165, 7: 2.2165, 8: 2.2165, 273: 2.0967, 297: 4.3672, 472: 6.1722, 948: 7.2624, 1274: 1.0, 1275: 2266.0, 1276: 279.0}), ScaledNumFeatures=SparseVector(1277, {0: 0.0008, 2: 0.0009, 5: 0.001, 6: 0.001, 7: 0.001, 8: 0.001, 273: 0.0009, 297: 0.0019, 472: 0.0027, 948: 0.0032, 1274: 0.0004, 1275: 0.9925, 1276: 0.1222}))"
      ]
     },
     "execution_count": 47,
     "metadata": {},
     "output_type": "execute_result"
    }
   ],
   "source": [
    "train_data.head()"
   ]
  },
  {
   "cell_type": "code",
   "execution_count": 48,
   "metadata": {},
   "outputs": [
    {
     "name": "stderr",
     "output_type": "stream",
     "text": [
      "24/12/09 17:51:40 WARN InstanceBuilder: Failed to load implementation from:dev.ludovic.netlib.blas.JNIBLAS\n",
      "24/12/09 17:51:40 WARN InstanceBuilder: Failed to load implementation from:dev.ludovic.netlib.blas.VectorBLAS\n",
      "                                                                                \r"
     ]
    }
   ],
   "source": [
    "# The first model that we'll look at is a logistic regression which will be fitted using the training data.\n",
    "\n",
    "lr = LogisticRegression(featuresCol = 'ScaledNumFeatures', labelCol = 'label')\n",
    "lr_model = lr.fit(train_data)\n",
    "predictions1 = lr_model.transform(test_data)"
   ]
  },
  {
   "cell_type": "code",
   "execution_count": 49,
   "metadata": {},
   "outputs": [
    {
     "name": "stderr",
     "output_type": "stream",
     "text": [
      "                                                                                \r"
     ]
    }
   ],
   "source": [
    "# We can test how accurately this model can predict, using the f1 score as the metric.\n",
    "\n",
    "evaluator = MulticlassClassificationEvaluator(labelCol='label', predictionCol='prediction', metricName='f1')\n",
    "f1_score = evaluator.evaluate(predictions1)"
   ]
  },
  {
   "cell_type": "code",
   "execution_count": 50,
   "metadata": {},
   "outputs": [
    {
     "name": "stdout",
     "output_type": "stream",
     "text": [
      "F1 Score on the test set: 0.9439523353252227\n"
     ]
    }
   ],
   "source": [
    "print(\"F1 Score on the test set:\", f1_score)"
   ]
  },
  {
   "cell_type": "markdown",
   "metadata": {},
   "source": [
    "**This is a very good F1 score, however it's important that we also look at other models two see if this can be improved.**"
   ]
  },
  {
   "cell_type": "code",
   "execution_count": 51,
   "metadata": {},
   "outputs": [
    {
     "name": "stderr",
     "output_type": "stream",
     "text": [
      "24/12/09 17:52:26 WARN MemoryStore: Not enough space to cache rdd_410_0 in memory! (computed 51.7 MiB so far)\n",
      "24/12/09 17:52:26 WARN BlockManager: Persisting block rdd_410_0 to disk instead.\n",
      "24/12/09 17:52:29 WARN MemoryStore: Not enough space to cache rdd_410_0 in memory! (computed 277.8 MiB so far)\n",
      "24/12/09 17:52:31 WARN MemoryStore: Not enough space to cache rdd_410_0 in memory! (computed 277.8 MiB so far)\n",
      "24/12/09 17:52:33 WARN MemoryStore: Not enough space to cache rdd_410_0 in memory! (computed 277.8 MiB so far)\n",
      "24/12/09 17:52:35 WARN MemoryStore: Not enough space to cache rdd_410_0 in memory! (computed 277.8 MiB so far)\n",
      "24/12/09 17:52:36 WARN MemoryStore: Not enough space to cache rdd_410_0 in memory! (computed 277.8 MiB so far)\n",
      "                                                                                \r"
     ]
    }
   ],
   "source": [
    "# We will now look at a random forest classifier.\n",
    "\n",
    "rf = RandomForestClassifier(featuresCol = 'ScaledNumFeatures', labelCol = 'label', seed=42)\n",
    "rf_model = rf.fit(train_data)\n",
    "predictions2 = rf_model.transform(test_data)"
   ]
  },
  {
   "cell_type": "code",
   "execution_count": 52,
   "metadata": {},
   "outputs": [
    {
     "name": "stderr",
     "output_type": "stream",
     "text": [
      "                                                                                \r"
     ]
    }
   ],
   "source": [
    "evaluator2 = MulticlassClassificationEvaluator(labelCol='label', predictionCol='prediction', metricName='f1')\n",
    "f1_score2 = evaluator2.evaluate(predictions2)"
   ]
  },
  {
   "cell_type": "code",
   "execution_count": 53,
   "metadata": {},
   "outputs": [
    {
     "name": "stdout",
     "output_type": "stream",
     "text": [
      "F1 Score on the test set: 0.7690263321315954\n"
     ]
    }
   ],
   "source": [
    "print(\"F1 Score on the test set:\", f1_score2)"
   ]
  },
  {
   "cell_type": "markdown",
   "metadata": {},
   "source": [
    "**We see that the F1 score has decreased by changing the model type.**"
   ]
  },
  {
   "cell_type": "code",
   "execution_count": 54,
   "metadata": {},
   "outputs": [
    {
     "name": "stderr",
     "output_type": "stream",
     "text": [
      "24/12/09 17:53:06 WARN MemoryStore: Not enough space to cache rdd_478_0 in memory! (computed 50.7 MiB so far)\n",
      "24/12/09 17:53:06 WARN BlockManager: Persisting block rdd_478_0 to disk instead.\n",
      "24/12/09 17:53:10 WARN MemoryStore: Not enough space to cache rdd_478_0 in memory! (computed 411.0 MiB so far)\n",
      "24/12/09 17:53:11 WARN MemoryStore: Not enough space to cache rdd_478_0 in memory! (computed 411.0 MiB so far)\n",
      "24/12/09 17:53:12 WARN MemoryStore: Not enough space to cache rdd_478_0 in memory! (computed 411.0 MiB so far)\n",
      "24/12/09 17:53:14 WARN MemoryStore: Not enough space to cache rdd_478_0 in memory! (computed 411.0 MiB so far)\n",
      "24/12/09 17:53:15 WARN MemoryStore: Not enough space to cache rdd_478_0 in memory! (computed 411.0 MiB so far)\n",
      "                                                                                \r"
     ]
    }
   ],
   "source": [
    "# Another model type we can look at is a decision tree classifier.\n",
    "\n",
    "dt = DecisionTreeClassifier(featuresCol = 'ScaledNumFeatures', labelCol = 'label', seed=42)\n",
    "dt_model = dt.fit(train_data)\n",
    "predictions3 = dt_model.transform(test_data)"
   ]
  },
  {
   "cell_type": "code",
   "execution_count": 55,
   "metadata": {},
   "outputs": [
    {
     "name": "stderr",
     "output_type": "stream",
     "text": [
      "                                                                                \r"
     ]
    }
   ],
   "source": [
    "evaluator3 = MulticlassClassificationEvaluator(labelCol='label', predictionCol='prediction', metricName='f1')\n",
    "f1_score3 = evaluator3.evaluate(predictions3)"
   ]
  },
  {
   "cell_type": "code",
   "execution_count": 56,
   "metadata": {},
   "outputs": [
    {
     "name": "stdout",
     "output_type": "stream",
     "text": [
      "F1 Score on the test set: 0.8786253739055164\n"
     ]
    }
   ],
   "source": [
    "print(\"F1 Score on the test set:\", f1_score3)"
   ]
  },
  {
   "cell_type": "markdown",
   "metadata": {},
   "source": [
    "**Although this is a good F1 score, it still doesn't improve on the logistic regression score. However, we can fine tune these parameters.**"
   ]
  },
  {
   "cell_type": "code",
   "execution_count": 58,
   "metadata": {},
   "outputs": [
    {
     "name": "stderr",
     "output_type": "stream",
     "text": [
      "24/12/09 17:58:49 WARN MemoryStore: Not enough space to cache rdd_798_0 in memory! (computed 50.7 MiB so far)\n",
      "24/12/09 17:58:49 WARN BlockManager: Persisting block rdd_798_0 to disk instead.\n",
      "24/12/09 17:58:52 WARN MemoryStore: Not enough space to cache rdd_798_0 in memory! (computed 411.0 MiB so far)\n",
      "24/12/09 17:58:53 WARN MemoryStore: Not enough space to cache rdd_798_0 in memory! (computed 411.0 MiB so far)\n",
      "24/12/09 17:58:55 WARN MemoryStore: Not enough space to cache rdd_798_0 in memory! (computed 411.0 MiB so far)\n",
      "24/12/09 17:58:56 WARN MemoryStore: Not enough space to cache rdd_798_0 in memory! (computed 411.0 MiB so far)\n",
      "24/12/09 17:58:57 WARN MemoryStore: Not enough space to cache rdd_798_0 in memory! (computed 411.0 MiB so far)\n",
      "24/12/09 17:58:58 WARN MemoryStore: Not enough space to cache rdd_798_0 in memory! (computed 411.0 MiB so far)\n",
      "24/12/09 17:59:00 WARN MemoryStore: Not enough space to cache rdd_798_0 in memory! (computed 411.0 MiB so far)\n",
      "24/12/09 17:59:01 WARN MemoryStore: Not enough space to cache rdd_798_0 in memory! (computed 411.0 MiB so far)\n",
      "24/12/09 17:59:02 WARN MemoryStore: Not enough space to cache rdd_798_0 in memory! (computed 411.0 MiB so far)\n",
      "24/12/09 17:59:03 WARN MemoryStore: Not enough space to cache rdd_798_0 in memory! (computed 411.0 MiB so far)\n",
      "24/12/09 17:59:25 WARN MemoryStore: Not enough space to cache rdd_857_0 in memory! (computed 50.7 MiB so far)\n",
      "24/12/09 17:59:25 WARN BlockManager: Persisting block rdd_857_0 to disk instead.\n",
      "24/12/09 17:59:28 WARN MemoryStore: Not enough space to cache rdd_857_0 in memory! (computed 411.0 MiB so far)\n",
      "24/12/09 17:59:30 WARN MemoryStore: Not enough space to cache rdd_857_0 in memory! (computed 411.0 MiB so far)\n",
      "24/12/09 17:59:31 WARN MemoryStore: Not enough space to cache rdd_857_0 in memory! (computed 411.0 MiB so far)\n",
      "24/12/09 17:59:32 WARN MemoryStore: Not enough space to cache rdd_857_0 in memory! (computed 411.0 MiB so far)\n",
      "24/12/09 17:59:33 WARN MemoryStore: Not enough space to cache rdd_857_0 in memory! (computed 411.0 MiB so far)\n",
      "24/12/09 17:59:35 WARN MemoryStore: Not enough space to cache rdd_857_0 in memory! (computed 411.0 MiB so far)\n",
      "24/12/09 17:59:36 WARN MemoryStore: Not enough space to cache rdd_857_0 in memory! (computed 411.0 MiB so far)\n",
      "24/12/09 17:59:37 WARN MemoryStore: Not enough space to cache rdd_857_0 in memory! (computed 411.0 MiB so far)\n",
      "24/12/09 17:59:39 WARN MemoryStore: Not enough space to cache rdd_857_0 in memory! (computed 411.0 MiB so far)\n",
      "24/12/09 17:59:40 WARN MemoryStore: Not enough space to cache rdd_857_0 in memory! (computed 411.0 MiB so far)\n",
      "24/12/09 17:59:41 WARN MemoryStore: Not enough space to cache rdd_857_0 in memory! (computed 411.0 MiB so far)\n",
      "24/12/09 17:59:43 WARN MemoryStore: Not enough space to cache rdd_857_0 in memory! (computed 411.0 MiB so far)\n",
      "24/12/09 17:59:44 WARN MemoryStore: Not enough space to cache rdd_857_0 in memory! (computed 411.0 MiB so far)\n",
      "24/12/09 17:59:45 WARN MemoryStore: Not enough space to cache rdd_857_0 in memory! (computed 411.0 MiB so far)\n",
      "24/12/09 17:59:47 WARN MemoryStore: Not enough space to cache rdd_857_0 in memory! (computed 411.0 MiB so far)\n",
      "24/12/09 17:59:49 WARN MemoryStore: Not enough space to cache rdd_857_0 in memory! (computed 411.0 MiB so far)\n",
      "24/12/09 17:59:50 WARN MemoryStore: Not enough space to cache rdd_857_0 in memory! (computed 411.0 MiB so far)\n",
      "24/12/09 17:59:51 WARN MemoryStore: Not enough space to cache rdd_857_0 in memory! (computed 411.0 MiB so far)\n",
      "24/12/09 17:59:53 WARN MemoryStore: Not enough space to cache rdd_857_0 in memory! (computed 411.0 MiB so far)\n",
      "24/12/09 17:59:55 WARN MemoryStore: Not enough space to cache rdd_857_0 in memory! (computed 411.0 MiB so far)\n",
      "24/12/09 18:00:17 WARN MemoryStore: Not enough space to cache rdd_946_0 in memory! (computed 50.7 MiB so far)\n",
      "24/12/09 18:00:17 WARN BlockManager: Persisting block rdd_946_0 to disk instead.\n",
      "24/12/09 18:00:21 WARN MemoryStore: Not enough space to cache rdd_946_0 in memory! (computed 411.0 MiB so far)\n",
      "24/12/09 18:00:22 WARN MemoryStore: Not enough space to cache rdd_946_0 in memory! (computed 411.0 MiB so far)\n",
      "24/12/09 18:00:23 WARN MemoryStore: Not enough space to cache rdd_946_0 in memory! (computed 411.0 MiB so far)\n",
      "24/12/09 18:00:25 WARN MemoryStore: Not enough space to cache rdd_946_0 in memory! (computed 411.0 MiB so far)\n",
      "24/12/09 18:00:26 WARN MemoryStore: Not enough space to cache rdd_946_0 in memory! (computed 411.0 MiB so far)\n",
      "24/12/09 18:00:27 WARN MemoryStore: Not enough space to cache rdd_946_0 in memory! (computed 411.0 MiB so far)\n",
      "24/12/09 18:00:29 WARN MemoryStore: Not enough space to cache rdd_946_0 in memory! (computed 411.0 MiB so far)\n",
      "24/12/09 18:00:30 WARN MemoryStore: Not enough space to cache rdd_946_0 in memory! (computed 411.0 MiB so far)\n",
      "24/12/09 18:00:31 WARN MemoryStore: Not enough space to cache rdd_946_0 in memory! (computed 411.0 MiB so far)\n",
      "24/12/09 18:00:33 WARN MemoryStore: Not enough space to cache rdd_946_0 in memory! (computed 411.0 MiB so far)\n",
      "24/12/09 18:00:34 WARN MemoryStore: Not enough space to cache rdd_946_0 in memory! (computed 411.0 MiB so far)\n",
      "24/12/09 18:00:35 WARN MemoryStore: Not enough space to cache rdd_946_0 in memory! (computed 411.0 MiB so far)\n",
      "24/12/09 18:00:37 WARN MemoryStore: Not enough space to cache rdd_946_0 in memory! (computed 411.0 MiB so far)\n",
      "24/12/09 18:00:38 WARN MemoryStore: Not enough space to cache rdd_946_0 in memory! (computed 411.0 MiB so far)\n",
      "24/12/09 18:00:39 WARN MemoryStore: Not enough space to cache rdd_946_0 in memory! (computed 411.0 MiB so far)\n",
      "24/12/09 18:00:41 WARN MemoryStore: Not enough space to cache rdd_946_0 in memory! (computed 411.0 MiB so far)\n",
      "24/12/09 18:00:42 WARN MemoryStore: Not enough space to cache rdd_946_0 in memory! (computed 411.0 MiB so far)\n",
      "24/12/09 18:00:44 WARN MemoryStore: Not enough space to cache rdd_946_0 in memory! (computed 411.0 MiB so far)\n",
      "24/12/09 18:00:45 WARN MemoryStore: Not enough space to cache rdd_946_0 in memory! (computed 411.0 MiB so far)\n",
      "24/12/09 18:00:47 WARN MemoryStore: Not enough space to cache rdd_946_0 in memory! (computed 411.0 MiB so far)\n",
      "24/12/09 18:00:49 WARN MemoryStore: Not enough space to cache rdd_946_0 in memory! (computed 411.0 MiB so far)\n",
      "24/12/09 18:00:51 WARN MemoryStore: Not enough space to cache rdd_946_0 in memory! (computed 411.0 MiB so far)\n",
      "24/12/09 18:00:53 WARN MemoryStore: Not enough space to cache rdd_946_0 in memory! (computed 411.0 MiB so far)\n",
      "24/12/09 18:00:54 WARN MemoryStore: Not enough space to cache rdd_946_0 in memory! (computed 411.0 MiB so far)\n",
      "24/12/09 18:00:56 WARN MemoryStore: Not enough space to cache rdd_946_0 in memory! (computed 411.0 MiB so far)\n",
      "24/12/09 18:00:58 WARN MemoryStore: Not enough space to cache rdd_946_0 in memory! (computed 411.0 MiB so far)\n",
      "24/12/09 18:01:00 WARN MemoryStore: Not enough space to cache rdd_946_0 in memory! (computed 411.0 MiB so far)\n",
      "24/12/09 18:01:02 WARN MemoryStore: Not enough space to cache rdd_946_0 in memory! (computed 411.0 MiB so far)\n",
      "24/12/09 18:01:04 WARN MemoryStore: Not enough space to cache rdd_946_0 in memory! (computed 411.0 MiB so far)\n",
      "24/12/09 18:01:07 WARN MemoryStore: Not enough space to cache rdd_946_0 in memory! (computed 411.0 MiB so far)\n",
      "[Stage 523:>                                                        (0 + 1) / 1]\r"
     ]
    },
    {
     "name": "stdout",
     "output_type": "stream",
     "text": [
      "F1 Score on the test set: 0.9241843708228313\n",
      "F1 Score on the test set: 0.9564909459157419\n",
      "F1 Score on the test set: 0.9670665693926168\n"
     ]
    },
    {
     "name": "stderr",
     "output_type": "stream",
     "text": [
      "\r",
      "                                                                                \r"
     ]
    }
   ],
   "source": [
    "dt2 = DecisionTreeClassifier(featuresCol = 'ScaledNumFeatures', labelCol = 'label', seed=42, maxDepth = 10)\n",
    "dt3 = DecisionTreeClassifier(featuresCol = 'ScaledNumFeatures', labelCol = 'label', seed=42, maxDepth = 20)\n",
    "dt4 = DecisionTreeClassifier(featuresCol = 'ScaledNumFeatures', labelCol = 'label', seed=42, maxDepth = 30)\n",
    "dt_model2 = dt2.fit(train_data)\n",
    "dt_model3 = dt3.fit(train_data)\n",
    "dt_model4 = dt4.fit(train_data)\n",
    "predictions4 = dt_model2.transform(test_data)\n",
    "predictions5 = dt_model3.transform(test_data)\n",
    "predictions6 = dt_model4.transform(test_data)\n",
    "\n",
    "evaluator4 = MulticlassClassificationEvaluator(labelCol='label', predictionCol='prediction', metricName='f1')\n",
    "\n",
    "f1_score = evaluator4.evaluate(predictions4)\n",
    "f1_score2 = evaluator4.evaluate(predictions5)\n",
    "f1_score3 = evaluator4.evaluate(predictions6)\n",
    "print(\"F1 Score on the test set:\", f1_score)\n",
    "print(\"F1 Score on the test set:\", f1_score2)\n",
    "print(\"F1 Score on the test set:\", f1_score3)"
   ]
  },
  {
   "cell_type": "markdown",
   "metadata": {},
   "source": [
    "**By using fine tuned parameters, we now have a best performing model.**"
   ]
  },
  {
   "cell_type": "code",
   "execution_count": 62,
   "metadata": {},
   "outputs": [
    {
     "data": {
      "image/png": "[encoded data removed]",
      "text/plain": [
       "<Figure size 640x480 with 1 Axes>"
      ]
     },
     "metadata": {},
     "output_type": "display_data"
    }
   ],
   "source": [
    "# We can plot the results of each model.\n",
    "\n",
    "methods = ['Logistic Regression', 'Random Forest Classifier', 'Decision Tree Classifier', 'Decision Tree Classifier Tuned']\n",
    "f_scores = [0.9440, 0.7690, 0.8786, 0.9671]\n",
    "\n",
    "# Plot the F-scores\n",
    "plt.bar(methods, f_scores)\n",
    "plt.xlabel('Model')\n",
    "plt.ylabel('F-Score')\n",
    "plt.xticks(rotation='vertical')\n",
    "plt.ylim(0., 1.0)\n",
    "plt.title('Comparison of F-Scores for Different Methods')\n",
    "plt.show()"
   ]
  },
  {
   "cell_type": "code",
   "execution_count": 60,
   "metadata": {},
   "outputs": [
    {
     "name": "stderr",
     "output_type": "stream",
     "text": [
      "[Stage 529:>                                                        (0 + 1) / 1]\r"
     ]
    },
    {
     "name": "stdout",
     "output_type": "stream",
     "text": [
      "Accuracy: 0.9675919835109416\n",
      "Precision: 0.9670684469609393\n",
      "Recall: 0.9675919835109414\n"
     ]
    },
    {
     "name": "stderr",
     "output_type": "stream",
     "text": [
      "\r",
      "                                                                                \r"
     ]
    }
   ],
   "source": [
    "# Lets look a bit deeper at these results.\n",
    "\n",
    "accuracy = evaluator4.evaluate(predictions6, {evaluator4.metricName: \"accuracy\"})\n",
    "precision = evaluator4.evaluate(predictions6, {evaluator4.metricName: \"weightedPrecision\"})\n",
    "recall = evaluator4.evaluate(predictions6, {evaluator4.metricName: \"weightedRecall\"})\n",
    "\n",
    "print(f\"Accuracy: {accuracy}\")\n",
    "print(f\"Precision: {precision}\")\n",
    "print(f\"Recall: {recall}\")"
   ]
  },
  {
   "cell_type": "code",
   "execution_count": 61,
   "metadata": {},
   "outputs": [
    {
     "name": "stderr",
     "output_type": "stream",
     "text": [
      "\r",
      "[Stage 531:>                                                        (0 + 1) / 1]\r"
     ]
    },
    {
     "name": "stdout",
     "output_type": "stream",
     "text": [
      "F1 Score on the validation set: 0.9684032528156599\n"
     ]
    },
    {
     "name": "stderr",
     "output_type": "stream",
     "text": [
      "\r",
      "                                                                                \r"
     ]
    }
   ],
   "source": [
    "# Finally we'll validate this by using the validation data.\n",
    "\n",
    "valid_predictions = dt_model4.transform(validation_data)\n",
    "valid_evaluator = MulticlassClassificationEvaluator(labelCol='label', predictionCol='prediction', metricName='f1')\n",
    "f1_score_valid = valid_evaluator.evaluate(valid_predictions)\n",
    "print(\"F1 Score on the validation set:\", f1_score_valid)"
   ]
  },
  {
   "cell_type": "markdown",
   "metadata": {},
   "source": [
    "**There is no drop in performance when we change the dataset.**"
   ]
  }
 ],
 "metadata": {
  "kernelspec": {
   "display_name": "Python 3 (ipykernel)",
   "language": "python",
   "name": "python3"
  },
  "language_info": {
   "codemirror_mode": {
    "name": "ipython",
    "version": 3
   },
   "file_extension": ".py",
   "mimetype": "text/x-python",
   "name": "python",
   "nbconvert_exporter": "python",
   "pygments_lexer": "ipython3",
   "version": "3.10.13"
  }
 },
 "nbformat": 4,
 "nbformat_minor": 2
}
